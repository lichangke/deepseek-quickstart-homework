{
 "cells": [
  {
   "cell_type": "code",
   "execution_count": 1,
   "id": "ef92ffa5-03ff-4681-80e5-5cc69decb96a",
   "metadata": {},
   "outputs": [],
   "source": [
    "import os\n",
    "from openai import OpenAI\n",
    "\n",
    "# 从环境变量获取 DeepSeek API Key\n",
    "api_key = os.getenv(\"DEEPSEEK_API_KEY\")\n",
    "if not api_key:\n",
    "    raise ValueError(\"请设置 DEEPSEEK_API_KEY 环境变量\")"
   ]
  },
  {
   "cell_type": "code",
   "execution_count": 2,
   "id": "9ef626ad-59bd-411c-931b-b320d8abcc83",
   "metadata": {},
   "outputs": [],
   "source": [
    "# 定义工具\n",
    "tools = [\n",
    "    {\n",
    "        \"type\" : \"function\",\n",
    "        \"function\" : {\n",
    "            \"name\" : \"get_weather\",\n",
    "            \"description\": \"Get weather of an location, the user shoud supply a location first\",\n",
    "            \"parameters\": { # parameters (JSON Schema 对象，定义⼯具所需的参数)\n",
    "                \"type\": \"object\",\n",
    "                \"properties\": {\n",
    "                    \"location\": {\n",
    "                        \"type\": \"string\",\n",
    "                        \"description\": \"The city and state, e.g. San Francisco, CA\",\n",
    "                    }\n",
    "                },\n",
    "                \"required\": [\"location\"]\n",
    "            },\n",
    "        },\n",
    "    }\n",
    "]"
   ]
  },
  {
   "cell_type": "code",
   "execution_count": 3,
   "id": "a2d57966-382e-4168-8dc0-fd6b334a3c8e",
   "metadata": {},
   "outputs": [],
   "source": [
    "# 初始化 DeepSeek 客户端\n",
    "client = OpenAI(\n",
    "    api_key=api_key,\n",
    "    base_url=\"https://api.deepseek.com/v1\",  # DeepSeek API 的基地址\n",
    ")"
   ]
  },
  {
   "cell_type": "code",
   "execution_count": 4,
   "id": "5b330c62-a305-4248-a1eb-f12bc48cbcfd",
   "metadata": {},
   "outputs": [],
   "source": [
    "def send_messages(messages):\n",
    "    response = client.chat.completions.create(\n",
    "        model=\"deepseek-chat\",\n",
    "        messages=messages,\n",
    "        tools=tools\n",
    "    )\n",
    "    return response.choices[0].message"
   ]
  },
  {
   "cell_type": "code",
   "execution_count": 5,
   "id": "c3097589-4759-472e-a2af-dd3d08b0de7d",
   "metadata": {},
   "outputs": [
    {
     "name": "stdout",
     "output_type": "stream",
     "text": [
      "User>\t How's the weather in Shanghai?\n"
     ]
    }
   ],
   "source": [
    "# 1. ⽤户发起请求，将请求和定义的 tools 传递给 DeepSeek。\n",
    "messages = [{\"role\": \"user\", \"content\": \"How's the weather in Shanghai?\"}]\n",
    "message = send_messages(messages)\n",
    "print(f\"User>\\t {messages[0]['content']}\")"
   ]
  },
  {
   "cell_type": "code",
   "execution_count": 6,
   "id": "e8318083-d3b6-4cf8-9e43-8a02ed668c73",
   "metadata": {},
   "outputs": [
    {
     "name": "stdout",
     "output_type": "stream",
     "text": [
      "ChatCompletionMessageToolCall(id='call_0_a2e8bd28-a5e2-4bb0-92ae-4b6209d24ccf', function=Function(arguments='{\"location\":\"Shanghai\"}', name='get_weather'), type='function', index=0)\n"
     ]
    }
   ],
   "source": [
    "# 2. DeepSeek 判断需要调⽤⼯具，返回⼀个包含 tool_calls 的响应。\n",
    "# 3. 开发者解析 tool_calls， 根据 name 和 arguments 调⽤对应的实际⼯具。\n",
    "tool = message.tool_calls[0]\n",
    "print(tool)\n",
    "# 执行 tool 工具 获取 结果"
   ]
  },
  {
   "cell_type": "code",
   "execution_count": 8,
   "id": "b831e232-29cf-43d6-b8a5-73c1d558a405",
   "metadata": {},
   "outputs": [
    {
     "name": "stdout",
     "output_type": "stream",
     "text": [
      "ChatCompletionMessage(content='The weather in Shanghai is currently 24°C.', refusal=None, role='assistant', annotations=None, audio=None, function_call=None, tool_calls=None)\n"
     ]
    }
   ],
   "source": [
    "print(message)"
   ]
  },
  {
   "cell_type": "code",
   "execution_count": 7,
   "id": "80ba6027-dc43-4d92-92cb-06ef968c7b1c",
   "metadata": {},
   "outputs": [
    {
     "name": "stdout",
     "output_type": "stream",
     "text": [
      "Model>\t The weather in Shanghai is currently 24°C.\n"
     ]
    }
   ],
   "source": [
    "# 4. 将⼯具执⾏结果作为 tool_message 再次发送给 DeepSeek，让模型继续处理。\n",
    "# 模拟 search_web 工具调用结果（直接返回24度）\n",
    "messages.append(message)\n",
    "messages.append({\"role\": \"tool\", \"tool_call_id\": tool.id, \"content\": \"24℃\"})\n",
    "message = send_messages(messages)\n",
    "# 5. 模型返回最终结果\n",
    "print(f\"Model>\\t {message.content}\")"
   ]
  },
  {
   "cell_type": "code",
   "execution_count": 9,
   "id": "ef20a3b8-cdc7-40ec-a027-30c7032b07e0",
   "metadata": {},
   "outputs": [
    {
     "data": {
      "text/plain": [
       "[{'role': 'user', 'content': \"How's the weather in Shanghai?\"},\n",
       " ChatCompletionMessage(content='', refusal=None, role='assistant', annotations=None, audio=None, function_call=None, tool_calls=[ChatCompletionMessageToolCall(id='call_0_a2e8bd28-a5e2-4bb0-92ae-4b6209d24ccf', function=Function(arguments='{\"location\":\"Shanghai\"}', name='get_weather'), type='function', index=0)]),\n",
       " {'role': 'tool',\n",
       "  'tool_call_id': 'call_0_a2e8bd28-a5e2-4bb0-92ae-4b6209d24ccf',\n",
       "  'content': '24℃'}]"
      ]
     },
     "execution_count": 9,
     "metadata": {},
     "output_type": "execute_result"
    }
   ],
   "source": [
    "messages"
   ]
  },
  {
   "cell_type": "code",
   "execution_count": null,
   "id": "792dc018-e714-4bcc-ae46-892a4b341049",
   "metadata": {},
   "outputs": [],
   "source": []
  }
 ],
 "metadata": {
  "kernelspec": {
   "display_name": "deepseek",
   "language": "python",
   "name": "deepseek"
  },
  "language_info": {
   "codemirror_mode": {
    "name": "ipython",
    "version": 3
   },
   "file_extension": ".py",
   "mimetype": "text/x-python",
   "name": "python",
   "nbconvert_exporter": "python",
   "pygments_lexer": "ipython3",
   "version": "3.13.4"
  }
 },
 "nbformat": 4,
 "nbformat_minor": 5
}
