{
 "cells": [
  {
   "cell_type": "code",
   "execution_count": 1,
   "id": "472653eb-c5f4-459e-8bce-0408a53f25e9",
   "metadata": {},
   "outputs": [
    {
     "name": "stdout",
     "output_type": "stream",
     "text": [
      "Requirement already satisfied: pymilvus==2.5.10 in /home/leacock/miniconda3/envs/deepseek/lib/python3.13/site-packages (from pymilvus[model]==2.5.10) (2.5.10)\n",
      "Requirement already satisfied: openai==1.82.0 in /home/leacock/miniconda3/envs/deepseek/lib/python3.13/site-packages (1.82.0)\n",
      "Requirement already satisfied: requests==2.32.3 in /home/leacock/miniconda3/envs/deepseek/lib/python3.13/site-packages (2.32.3)\n",
      "Requirement already satisfied: tqdm==4.67.1 in /home/leacock/miniconda3/envs/deepseek/lib/python3.13/site-packages (4.67.1)\n",
      "Requirement already satisfied: torch==2.7.0 in /home/leacock/miniconda3/envs/deepseek/lib/python3.13/site-packages (2.7.0)\n",
      "Requirement already satisfied: setuptools>69 in /home/leacock/miniconda3/envs/deepseek/lib/python3.13/site-packages (from pymilvus==2.5.10->pymilvus[model]==2.5.10) (78.1.1)\n",
      "Requirement already satisfied: grpcio<=1.67.1,>=1.49.1 in /home/leacock/miniconda3/envs/deepseek/lib/python3.13/site-packages (from pymilvus==2.5.10->pymilvus[model]==2.5.10) (1.67.1)\n",
      "Requirement already satisfied: protobuf>=3.20.0 in /home/leacock/miniconda3/envs/deepseek/lib/python3.13/site-packages (from pymilvus==2.5.10->pymilvus[model]==2.5.10) (6.31.1)\n",
      "Requirement already satisfied: python-dotenv<2.0.0,>=1.0.1 in /home/leacock/miniconda3/envs/deepseek/lib/python3.13/site-packages (from pymilvus==2.5.10->pymilvus[model]==2.5.10) (1.1.0)\n",
      "Requirement already satisfied: ujson>=2.0.0 in /home/leacock/miniconda3/envs/deepseek/lib/python3.13/site-packages (from pymilvus==2.5.10->pymilvus[model]==2.5.10) (5.10.0)\n",
      "Requirement already satisfied: pandas>=1.2.4 in /home/leacock/miniconda3/envs/deepseek/lib/python3.13/site-packages (from pymilvus==2.5.10->pymilvus[model]==2.5.10) (2.3.0)\n",
      "Requirement already satisfied: milvus-lite>=2.4.0 in /home/leacock/miniconda3/envs/deepseek/lib/python3.13/site-packages (from pymilvus==2.5.10->pymilvus[model]==2.5.10) (2.4.12)\n",
      "Requirement already satisfied: anyio<5,>=3.5.0 in /home/leacock/miniconda3/envs/deepseek/lib/python3.13/site-packages (from openai==1.82.0) (4.9.0)\n",
      "Requirement already satisfied: distro<2,>=1.7.0 in /home/leacock/miniconda3/envs/deepseek/lib/python3.13/site-packages (from openai==1.82.0) (1.9.0)\n",
      "Requirement already satisfied: httpx<1,>=0.23.0 in /home/leacock/miniconda3/envs/deepseek/lib/python3.13/site-packages (from openai==1.82.0) (0.28.1)\n",
      "Requirement already satisfied: jiter<1,>=0.4.0 in /home/leacock/miniconda3/envs/deepseek/lib/python3.13/site-packages (from openai==1.82.0) (0.10.0)\n",
      "Requirement already satisfied: pydantic<3,>=1.9.0 in /home/leacock/miniconda3/envs/deepseek/lib/python3.13/site-packages (from openai==1.82.0) (2.11.5)\n",
      "Requirement already satisfied: sniffio in /home/leacock/miniconda3/envs/deepseek/lib/python3.13/site-packages (from openai==1.82.0) (1.3.1)\n",
      "Requirement already satisfied: typing-extensions<5,>=4.11 in /home/leacock/miniconda3/envs/deepseek/lib/python3.13/site-packages (from openai==1.82.0) (4.14.0)\n",
      "Requirement already satisfied: charset-normalizer<4,>=2 in /home/leacock/miniconda3/envs/deepseek/lib/python3.13/site-packages (from requests==2.32.3) (3.4.2)\n",
      "Requirement already satisfied: idna<4,>=2.5 in /home/leacock/miniconda3/envs/deepseek/lib/python3.13/site-packages (from requests==2.32.3) (3.10)\n",
      "Requirement already satisfied: urllib3<3,>=1.21.1 in /home/leacock/miniconda3/envs/deepseek/lib/python3.13/site-packages (from requests==2.32.3) (2.4.0)\n",
      "Requirement already satisfied: certifi>=2017.4.17 in /home/leacock/miniconda3/envs/deepseek/lib/python3.13/site-packages (from requests==2.32.3) (2025.4.26)\n",
      "Requirement already satisfied: filelock in /home/leacock/miniconda3/envs/deepseek/lib/python3.13/site-packages (from torch==2.7.0) (3.18.0)\n",
      "Requirement already satisfied: sympy>=1.13.3 in /home/leacock/miniconda3/envs/deepseek/lib/python3.13/site-packages (from torch==2.7.0) (1.14.0)\n",
      "Requirement already satisfied: networkx in /home/leacock/miniconda3/envs/deepseek/lib/python3.13/site-packages (from torch==2.7.0) (3.5)\n",
      "Requirement already satisfied: jinja2 in /home/leacock/miniconda3/envs/deepseek/lib/python3.13/site-packages (from torch==2.7.0) (3.1.6)\n",
      "Requirement already satisfied: fsspec in /home/leacock/miniconda3/envs/deepseek/lib/python3.13/site-packages (from torch==2.7.0) (2025.5.1)\n",
      "Requirement already satisfied: nvidia-cuda-nvrtc-cu12==12.6.77 in /home/leacock/miniconda3/envs/deepseek/lib/python3.13/site-packages (from torch==2.7.0) (12.6.77)\n",
      "Requirement already satisfied: nvidia-cuda-runtime-cu12==12.6.77 in /home/leacock/miniconda3/envs/deepseek/lib/python3.13/site-packages (from torch==2.7.0) (12.6.77)\n",
      "Requirement already satisfied: nvidia-cuda-cupti-cu12==12.6.80 in /home/leacock/miniconda3/envs/deepseek/lib/python3.13/site-packages (from torch==2.7.0) (12.6.80)\n",
      "Requirement already satisfied: nvidia-cudnn-cu12==9.5.1.17 in /home/leacock/miniconda3/envs/deepseek/lib/python3.13/site-packages (from torch==2.7.0) (9.5.1.17)\n",
      "Requirement already satisfied: nvidia-cublas-cu12==12.6.4.1 in /home/leacock/miniconda3/envs/deepseek/lib/python3.13/site-packages (from torch==2.7.0) (12.6.4.1)\n",
      "Requirement already satisfied: nvidia-cufft-cu12==11.3.0.4 in /home/leacock/miniconda3/envs/deepseek/lib/python3.13/site-packages (from torch==2.7.0) (11.3.0.4)\n",
      "Requirement already satisfied: nvidia-curand-cu12==10.3.7.77 in /home/leacock/miniconda3/envs/deepseek/lib/python3.13/site-packages (from torch==2.7.0) (10.3.7.77)\n",
      "Requirement already satisfied: nvidia-cusolver-cu12==11.7.1.2 in /home/leacock/miniconda3/envs/deepseek/lib/python3.13/site-packages (from torch==2.7.0) (11.7.1.2)\n",
      "Requirement already satisfied: nvidia-cusparse-cu12==12.5.4.2 in /home/leacock/miniconda3/envs/deepseek/lib/python3.13/site-packages (from torch==2.7.0) (12.5.4.2)\n",
      "Requirement already satisfied: nvidia-cusparselt-cu12==0.6.3 in /home/leacock/miniconda3/envs/deepseek/lib/python3.13/site-packages (from torch==2.7.0) (0.6.3)\n",
      "Requirement already satisfied: nvidia-nccl-cu12==2.26.2 in /home/leacock/miniconda3/envs/deepseek/lib/python3.13/site-packages (from torch==2.7.0) (2.26.2)\n",
      "Requirement already satisfied: nvidia-nvtx-cu12==12.6.77 in /home/leacock/miniconda3/envs/deepseek/lib/python3.13/site-packages (from torch==2.7.0) (12.6.77)\n",
      "Requirement already satisfied: nvidia-nvjitlink-cu12==12.6.85 in /home/leacock/miniconda3/envs/deepseek/lib/python3.13/site-packages (from torch==2.7.0) (12.6.85)\n",
      "Requirement already satisfied: nvidia-cufile-cu12==1.11.1.6 in /home/leacock/miniconda3/envs/deepseek/lib/python3.13/site-packages (from torch==2.7.0) (1.11.1.6)\n",
      "Requirement already satisfied: triton==3.3.0 in /home/leacock/miniconda3/envs/deepseek/lib/python3.13/site-packages (from torch==2.7.0) (3.3.0)\n",
      "Requirement already satisfied: pymilvus.model>=0.3.0 in /home/leacock/miniconda3/envs/deepseek/lib/python3.13/site-packages (from pymilvus[model]==2.5.10) (0.3.2)\n",
      "Requirement already satisfied: httpcore==1.* in /home/leacock/miniconda3/envs/deepseek/lib/python3.13/site-packages (from httpx<1,>=0.23.0->openai==1.82.0) (1.0.9)\n",
      "Requirement already satisfied: h11>=0.16 in /home/leacock/miniconda3/envs/deepseek/lib/python3.13/site-packages (from httpcore==1.*->httpx<1,>=0.23.0->openai==1.82.0) (0.16.0)\n",
      "Requirement already satisfied: annotated-types>=0.6.0 in /home/leacock/miniconda3/envs/deepseek/lib/python3.13/site-packages (from pydantic<3,>=1.9.0->openai==1.82.0) (0.7.0)\n",
      "Requirement already satisfied: pydantic-core==2.33.2 in /home/leacock/miniconda3/envs/deepseek/lib/python3.13/site-packages (from pydantic<3,>=1.9.0->openai==1.82.0) (2.33.2)\n",
      "Requirement already satisfied: typing-inspection>=0.4.0 in /home/leacock/miniconda3/envs/deepseek/lib/python3.13/site-packages (from pydantic<3,>=1.9.0->openai==1.82.0) (0.4.1)\n",
      "Requirement already satisfied: numpy>=1.26.0 in /home/leacock/miniconda3/envs/deepseek/lib/python3.13/site-packages (from pandas>=1.2.4->pymilvus==2.5.10->pymilvus[model]==2.5.10) (2.3.0)\n",
      "Requirement already satisfied: python-dateutil>=2.8.2 in /home/leacock/miniconda3/envs/deepseek/lib/python3.13/site-packages (from pandas>=1.2.4->pymilvus==2.5.10->pymilvus[model]==2.5.10) (2.9.0.post0)\n",
      "Requirement already satisfied: pytz>=2020.1 in /home/leacock/miniconda3/envs/deepseek/lib/python3.13/site-packages (from pandas>=1.2.4->pymilvus==2.5.10->pymilvus[model]==2.5.10) (2025.2)\n",
      "Requirement already satisfied: tzdata>=2022.7 in /home/leacock/miniconda3/envs/deepseek/lib/python3.13/site-packages (from pandas>=1.2.4->pymilvus==2.5.10->pymilvus[model]==2.5.10) (2025.2)\n",
      "Requirement already satisfied: transformers>=4.36.0 in /home/leacock/miniconda3/envs/deepseek/lib/python3.13/site-packages (from pymilvus.model>=0.3.0->pymilvus[model]==2.5.10) (4.52.4)\n",
      "Requirement already satisfied: onnxruntime in /home/leacock/miniconda3/envs/deepseek/lib/python3.13/site-packages (from pymilvus.model>=0.3.0->pymilvus[model]==2.5.10) (1.22.0)\n",
      "Requirement already satisfied: scipy>=1.10.0 in /home/leacock/miniconda3/envs/deepseek/lib/python3.13/site-packages (from pymilvus.model>=0.3.0->pymilvus[model]==2.5.10) (1.15.3)\n",
      "Requirement already satisfied: six>=1.5 in /home/leacock/miniconda3/envs/deepseek/lib/python3.13/site-packages (from python-dateutil>=2.8.2->pandas>=1.2.4->pymilvus==2.5.10->pymilvus[model]==2.5.10) (1.17.0)\n",
      "Requirement already satisfied: mpmath<1.4,>=1.1.0 in /home/leacock/miniconda3/envs/deepseek/lib/python3.13/site-packages (from sympy>=1.13.3->torch==2.7.0) (1.3.0)\n",
      "Requirement already satisfied: huggingface-hub<1.0,>=0.30.0 in /home/leacock/miniconda3/envs/deepseek/lib/python3.13/site-packages (from transformers>=4.36.0->pymilvus.model>=0.3.0->pymilvus[model]==2.5.10) (0.32.4)\n",
      "Requirement already satisfied: packaging>=20.0 in /home/leacock/miniconda3/envs/deepseek/lib/python3.13/site-packages (from transformers>=4.36.0->pymilvus.model>=0.3.0->pymilvus[model]==2.5.10) (24.2)\n",
      "Requirement already satisfied: pyyaml>=5.1 in /home/leacock/miniconda3/envs/deepseek/lib/python3.13/site-packages (from transformers>=4.36.0->pymilvus.model>=0.3.0->pymilvus[model]==2.5.10) (6.0.2)\n",
      "Requirement already satisfied: regex!=2019.12.17 in /home/leacock/miniconda3/envs/deepseek/lib/python3.13/site-packages (from transformers>=4.36.0->pymilvus.model>=0.3.0->pymilvus[model]==2.5.10) (2024.11.6)\n",
      "Requirement already satisfied: tokenizers<0.22,>=0.21 in /home/leacock/miniconda3/envs/deepseek/lib/python3.13/site-packages (from transformers>=4.36.0->pymilvus.model>=0.3.0->pymilvus[model]==2.5.10) (0.21.1)\n",
      "Requirement already satisfied: safetensors>=0.4.3 in /home/leacock/miniconda3/envs/deepseek/lib/python3.13/site-packages (from transformers>=4.36.0->pymilvus.model>=0.3.0->pymilvus[model]==2.5.10) (0.5.3)\n",
      "Requirement already satisfied: hf-xet<2.0.0,>=1.1.2 in /home/leacock/miniconda3/envs/deepseek/lib/python3.13/site-packages (from huggingface-hub<1.0,>=0.30.0->transformers>=4.36.0->pymilvus.model>=0.3.0->pymilvus[model]==2.5.10) (1.1.3)\n",
      "Requirement already satisfied: MarkupSafe>=2.0 in /home/leacock/miniconda3/envs/deepseek/lib/python3.13/site-packages (from jinja2->torch==2.7.0) (3.0.2)\n",
      "Requirement already satisfied: coloredlogs in /home/leacock/miniconda3/envs/deepseek/lib/python3.13/site-packages (from onnxruntime->pymilvus.model>=0.3.0->pymilvus[model]==2.5.10) (15.0.1)\n",
      "Requirement already satisfied: flatbuffers in /home/leacock/miniconda3/envs/deepseek/lib/python3.13/site-packages (from onnxruntime->pymilvus.model>=0.3.0->pymilvus[model]==2.5.10) (25.2.10)\n",
      "Requirement already satisfied: humanfriendly>=9.1 in /home/leacock/miniconda3/envs/deepseek/lib/python3.13/site-packages (from coloredlogs->onnxruntime->pymilvus.model>=0.3.0->pymilvus[model]==2.5.10) (10.0)\n"
     ]
    }
   ],
   "source": [
    "!pip install \"pymilvus[model]==2.5.10\" openai==1.82.0 requests==2.32.3 tqdm==4.67.1 torch==2.7.0"
   ]
  },
  {
   "cell_type": "code",
   "execution_count": 2,
   "id": "9e44003f-209a-47f6-8145-b9c57d195c1d",
   "metadata": {},
   "outputs": [
    {
     "data": {
      "text/plain": [
       "30"
      ]
     },
     "execution_count": 2,
     "metadata": {},
     "output_type": "execute_result"
    }
   ],
   "source": [
    "file_path = \"./mfd.md\"\n",
    "text_lines = []\n",
    "with open(file_path, \"r\") as file:\n",
    "    file_text = file.read()\n",
    "text_lines += file_text.split(\"# \")\n",
    "len(text_lines)"
   ]
  },
  {
   "cell_type": "code",
   "execution_count": 3,
   "id": "e3a3945c-92b6-4986-ae47-0466aac7fd91",
   "metadata": {},
   "outputs": [
    {
     "name": "stderr",
     "output_type": "stream",
     "text": [
      "/home/leacock/miniconda3/envs/deepseek/lib/python3.13/site-packages/tqdm/auto.py:21: TqdmWarning: IProgress not found. Please update jupyter and ipywidgets. See https://ipywidgets.readthedocs.io/en/stable/user_install.html\n",
      "  from .autonotebook import tqdm as notebook_tqdm\n"
     ]
    }
   ],
   "source": [
    "# 定义一个 embedding 模型，使用 milvus_model 来生成文本嵌入。 DefaultEmbeddingFunction 模型\n",
    "from pymilvus import model as milvus_model\n",
    "embedding_model = milvus_model.DefaultEmbeddingFunction()"
   ]
  },
  {
   "cell_type": "code",
   "execution_count": 4,
   "id": "64dc5f4e-f01b-42a0-84d6-7764ed3ba9f0",
   "metadata": {},
   "outputs": [
    {
     "name": "stderr",
     "output_type": "stream",
     "text": [
      "Creating embeddings: 100%|██████████| 30/30 [00:00<00:00, 168898.15it/s]\n"
     ]
    },
    {
     "data": {
      "text/plain": [
       "{'insert_count': 30, 'ids': [0, 1, 2, 3, 4, 5, 6, 7, 8, 9, 10, 11, 12, 13, 14, 15, 16, 17, 18, 19, 20, 21, 22, 23, 24, 25, 26, 27, 28, 29], 'cost': 0}"
      ]
     },
     "execution_count": 4,
     "metadata": {},
     "output_type": "execute_result"
    }
   ],
   "source": [
    "test_embedding = embedding_model.encode_queries([\"This is a test\"])[0]\n",
    "embedding_dim = len(test_embedding)\n",
    "# 将数据加载到 Milvus\n",
    "# 建立向量数据库\n",
    "from pymilvus import MilvusClient\n",
    "milvus_client = MilvusClient(uri=\"./milvus_demo.db\")\n",
    "# 创建 Collection\n",
    "collection_name = \"my_rag_collection_mfd\"\n",
    "if milvus_client.has_collection(collection_name):\n",
    "    milvus_client.drop_collection(collection_name)\n",
    "milvus_client.create_collection(\n",
    "    collection_name=collection_name,\n",
    "    dimension=embedding_dim,\n",
    "    metric_type=\"IP\",  # 内积距离\n",
    "    consistency_level=\"Strong\",  # 支持的值为 (`\"Strong\"`, `\"Session\"`, `\"Bounded\"`, `\"Eventually\"`)。更多详情请参见 https://milvus.io/docs/consistency.md#Consistency-Level。\n",
    ")\n",
    "# encode 数据 并插入数据库\n",
    "from tqdm import tqdm\n",
    "data = []\n",
    "doc_embeddings = embedding_model.encode_documents(text_lines)\n",
    "for i, line in enumerate(tqdm(text_lines, desc=\"Creating embeddings\")):\n",
    "    data.append({\"id\": i, \"vector\": doc_embeddings[i], \"text\": line})\n",
    "milvus_client.insert(collection_name=collection_name, data=data)"
   ]
  },
  {
   "cell_type": "code",
   "execution_count": 5,
   "id": "ef54e9f0-fddf-4160-b14b-3e71c455b788",
   "metadata": {},
   "outputs": [
    {
     "name": "stdout",
     "output_type": "stream",
     "text": [
      "[\n",
      "    [\n",
      "        \"第三章 合同的变更和转让\\n\\n**第五百四十八条** 当事人协商一致，可以变更合同。\\n\\n**第五百四十九条** 当事人对合同变更的内容约定不明确的，推定为未变更。\\n\\n**第五百五十条** 债权人可以将合同的权利全部或者部分转让给第三人，但是有下列情形之一的除外：\\n（一）根据合同性质不得转让；\\n（二）按照当事人约定不得转让；\\n（三）依照法律规定不得转让。\\n债权人转让权利的，应当通知债务人。未经通知，该转让对债务人不发生效力。\\n\\n**第五百五十一条** 债权人转让权利的，受让人取得与债权有关的从权利，但是该从权利专属于债权人自身的除外。\\n\\n**第五百五十二条** 债务人将合同的义务全部或者部分转让给第三人的，应当经债权人同意。\\n\\n**第五百五十三条** 债务人转让义务的，新债务人可以主张原债务人对债权人的抗辩。\\n新债务人承担债务的，应当承担与主债务有关的从债务，但是该从债务专属于原债务人自身的除外。\\n\\n**第五百五十四条** 当事人一方经对方同意，可以将自己在合同中的权利和义务一并转让给第三人。\\n\\n**第五百五十五条** 权利和义务一并转让的，适用债权转让、债务转让的有关规定。\\n\\n**第五百五十六条** 合同变更的，不影响当事人请求损害赔偿的权利。\\n\\n###\",\n",
      "        0.5734704732894897\n",
      "    ],\n",
      "    [\n",
      "        \"第二节 土地承包经营权\\n\\n**第三百五十八条** 土地承包经营权人依照法律规定，对集体所有的土地和国家所有由集体经济组织承包的土地，享有占有、使用和收益的权利，有权从事种植业、林业、畜牧业等农业生产。\\n\\n**第三百五十九条** 土地承包经营权人可以按照法律规定，将土地承包经营权互换、转让。\\n当事人通过互换、转让方式取得土地承包经营权的，未经登记，不得对抗善意第三人。\\n\\n**第三百六十条** 土地承包经营权人依法对承包地享有占有、使用、收益的权利。\\n土地承包经营权人可以采取出租、入股或者其他方式流转土地经营权。\\n\\n**第三百六十一条** 土地承包经营权人可以根据法律规定，将土地承包经营权互换、转让。\\n互换、转让后，土地承包经营权人依法享有土地承包经营权。\\n\\n**第三百六十二条** 土地经营权人有权在合同约定的期限内占有农村土地，开展农业生产经营并取得收益。\\n\\n**第三百六十三条** 土地经营权人可以依照法律规定，将土地经营权转让、出租、入股或者以其他方式流转。\\n未经登记，不得对抗善意第三人。\\n\\n**第三百六十四条** 耕地的承包期为三十年。草地的承包期为三十年至五十年。林地的承包期为三十年至七十年。\\n\\n**第三百六十五条** 土地承包经营权人依法享有承包地上的生产经营自主权。\\n土地承包经营权人可以采取出租、入股或者其他方式流转土地经营权。\\n\\n**第三百六十六条** 承包期届满，由土地承包经营权人按照国家有关规定继续承包。\\n法律另有规定的，依照其规定。\\n\\n####\",\n",
      "        0.5564696788787842\n",
      "    ],\n",
      "    [\n",
      "        \"第一节 一般规定\\n\\n**第三百九十九条** 担保物权人在债务人不履行到期债务或者发生当事人约定的实现担保物权的情形，有权依照法律规定以担保财产优先受偿。\\n\\n**第四百条** 担保物权包括抵押权、质权和留置权。\\n\\n**第四百零一条** 设立担保物权，当事人应当依照法律规定办理登记。\\n未经登记，不发生物权效力。\\n\\n**第四百零二条** 法律、行政法规对担保物权有特别规定的，依照其规定。\\n\\n**第四百零三条** 担保物权人在债务人不履行到期债务或者发生当事人约定的实现担保物权的情形，有权依照法律规定以担保财产优先受偿。\\n\\n**第四百零四条** 担保物权所担保的债权的范围，包括主债权及其利息、违约金、损害赔偿金和实现担保物权的费用。\\n当事人另有约定的，依照其约定。\\n\\n**第四百零五条** 债务人履行债务或者担保物权消灭的，担保物权消灭。\\n\\n**第四百零六条** 法律、行政法规对担保物权有特别规定的，依照其规定。\\n\\n**第四百零七条** 担保物权人有权对担保财产的孳息优先受偿。\\n当事人另有约定的，依照其约定。\\n\\n**第四百零八条** 担保物权消灭的，登记机构应当依法办理注销登记。\\n\\n####\",\n",
      "        0.5513973236083984\n",
      "    ],\n",
      "    [\n",
      "        \"二、权利质权\\n\\n**第四百四十九条** 可以出质的权利包括：\\n（一）汇票、本票、支票；\\n（二）债券、存款单；\\n（三）仓单、提单；\\n（四）可以转让的基金份额、股权；\\n（五）可以转让的注册商标专用权、专利权、著作权等知识产权中的财产权；\\n（六）应收账款；\\n（七）法律、行政法规规定可以出质的其他财产权利。\\n\\n**第四百五十条** 以汇票、本票、支票、债券、存款单、仓单、提单出质的，当事人应当订立书面合同。质权自权利凭证交付之日起设立。\\n\\n**第四百五十一条** 以记名股票出质的，当事人应当订立书面合同。质权自股票交付之日起设立。\\n以未上市公司股权出质的，适用公司法有关股权转让的规定。\\n\\n**第四百五十二条** 以可以转让的基金份额、股权出质的，当事人应当订立书面合同。质权自基金份额、股权登记于证券登记结算机构或者公司章程载明的股权登记簿时设立。\\n以未上市公司股权出质的，适用公司法有关股权转让的规定。\\n\\n**第四百五十三条** 以可以转让的注册商标专用权、专利权、著作权等知识产权中的财产权出质的，当事人应当订立书面合同。质权自权利质押登记于相关部门时设立。\\n\\n**第四百五十四条** 以应收账款出质的，当事人应当订立书面合同。质权自应收账款质押登记于中国人民银行征信中心时设立。\\n\\n**第四百五十五条** 以法律、行政法规规定可以出质的其他财产权利出质的，依照法律、行政法规的规定。\\n\\n**第四百五十六条** 权利质权除适用本节规定外，参照适用本章动产质权的有关规定。\\n\\n####\",\n",
      "        0.547430694103241\n",
      "    ],\n",
      "    [\n",
      "        \"第五节 居住权\\n\\n**第三百八十二条** 居住权人有权依照合同约定或者遗嘱，对他人的住宅享有占有、使用的权利，以满足生活居住的需要。\\n\\n**第三百八十三条** 设立居住权，当事人应当依照法律规定办理登记。\\n未经登记，不发生物权效力。\\n\\n**第三百八十四条** 居住权不得转让、继承。\\n设立居住权的住宅不得出租，但是当事人另有约定的除外。\\n\\n**第三百八十五条** 居住权期间届满或者居住权人死亡的，居住权消灭。\\n居住权消灭的，登记机构应当依法办理注销登记。\\n\\n**第三百八十六条** 居住权人有权对居住权的住宅进行维修、养护，但不得改变住宅的用途。\\n居住权人对居住权的住宅享有占有、使用的权利。\\n\\n**第三百八十七条** 居住权人有权依照合同约定或者遗嘱，对他人的住宅享有占有、使用的权利，以满足生活居住的需要。\\n\\n####\",\n",
      "        0.5426446199417114\n",
      "    ]\n",
      "]\n"
     ]
    }
   ],
   "source": [
    "# 构建 RAG\n",
    "question = \"居住权是什么，购买房屋时对于居住权应该注意什么\"\n",
    "# 在 collection 中搜索该问题，并检索语义上最匹配的前5个结果\n",
    "search_res = milvus_client.search(\n",
    "    collection_name=collection_name,\n",
    "    data=embedding_model.encode_queries(\n",
    "        [question]\n",
    "    ),  # 将问题转换为嵌入向量\n",
    "    limit=5,  # 返回前5个结果\n",
    "    search_params={\"metric_type\": \"IP\", \"params\": {}},  # 内积距离\n",
    "    output_fields=[\"text\"],  # 返回 text 字段\n",
    ")\n",
    "# 查看下，查询的搜索结果\n",
    "import json\n",
    "retrieved_lines_with_distances = [\n",
    "    (res[\"entity\"][\"text\"], res[\"distance\"]) for res in search_res[0]\n",
    "]\n",
    "print(json.dumps(retrieved_lines_with_distances, indent=4, ensure_ascii=False))"
   ]
  },
  {
   "cell_type": "code",
   "execution_count": 6,
   "id": "6dc1e1f0-c771-4437-8cf5-837352e78a77",
   "metadata": {},
   "outputs": [
    {
     "data": {
      "text/plain": [
       "'第三章 合同的变更和转让\\n\\n**第五百四十八条** 当事人协商一致，可以变更合同。\\n\\n**第五百四十九条** 当事人对合同变更的内容约定不明确的，推定为未变更。\\n\\n**第五百五十条** 债权人可以将合同的权利全部或者部分转让给第三人，但是有下列情形之一的除外：\\n（一）根据合同性质不得转让；\\n（二）按照当事人约定不得转让；\\n（三）依照法律规定不得转让。\\n债权人转让权利的，应当通知债务人。未经通知，该转让对债务人不发生效力。\\n\\n**第五百五十一条** 债权人转让权利的，受让人取得与债权有关的从权利，但是该从权利专属于债权人自身的除外。\\n\\n**第五百五十二条** 债务人将合同的义务全部或者部分转让给第三人的，应当经债权人同意。\\n\\n**第五百五十三条** 债务人转让义务的，新债务人可以主张原债务人对债权人的抗辩。\\n新债务人承担债务的，应当承担与主债务有关的从债务，但是该从债务专属于原债务人自身的除外。\\n\\n**第五百五十四条** 当事人一方经对方同意，可以将自己在合同中的权利和义务一并转让给第三人。\\n\\n**第五百五十五条** 权利和义务一并转让的，适用债权转让、债务转让的有关规定。\\n\\n**第五百五十六条** 合同变更的，不影响当事人请求损害赔偿的权利。\\n\\n###\\n第二节 土地承包经营权\\n\\n**第三百五十八条** 土地承包经营权人依照法律规定，对集体所有的土地和国家所有由集体经济组织承包的土地，享有占有、使用和收益的权利，有权从事种植业、林业、畜牧业等农业生产。\\n\\n**第三百五十九条** 土地承包经营权人可以按照法律规定，将土地承包经营权互换、转让。\\n当事人通过互换、转让方式取得土地承包经营权的，未经登记，不得对抗善意第三人。\\n\\n**第三百六十条** 土地承包经营权人依法对承包地享有占有、使用、收益的权利。\\n土地承包经营权人可以采取出租、入股或者其他方式流转土地经营权。\\n\\n**第三百六十一条** 土地承包经营权人可以根据法律规定，将土地承包经营权互换、转让。\\n互换、转让后，土地承包经营权人依法享有土地承包经营权。\\n\\n**第三百六十二条** 土地经营权人有权在合同约定的期限内占有农村土地，开展农业生产经营并取得收益。\\n\\n**第三百六十三条** 土地经营权人可以依照法律规定，将土地经营权转让、出租、入股或者以其他方式流转。\\n未经登记，不得对抗善意第三人。\\n\\n**第三百六十四条** 耕地的承包期为三十年。草地的承包期为三十年至五十年。林地的承包期为三十年至七十年。\\n\\n**第三百六十五条** 土地承包经营权人依法享有承包地上的生产经营自主权。\\n土地承包经营权人可以采取出租、入股或者其他方式流转土地经营权。\\n\\n**第三百六十六条** 承包期届满，由土地承包经营权人按照国家有关规定继续承包。\\n法律另有规定的，依照其规定。\\n\\n####\\n第一节 一般规定\\n\\n**第三百九十九条** 担保物权人在债务人不履行到期债务或者发生当事人约定的实现担保物权的情形，有权依照法律规定以担保财产优先受偿。\\n\\n**第四百条** 担保物权包括抵押权、质权和留置权。\\n\\n**第四百零一条** 设立担保物权，当事人应当依照法律规定办理登记。\\n未经登记，不发生物权效力。\\n\\n**第四百零二条** 法律、行政法规对担保物权有特别规定的，依照其规定。\\n\\n**第四百零三条** 担保物权人在债务人不履行到期债务或者发生当事人约定的实现担保物权的情形，有权依照法律规定以担保财产优先受偿。\\n\\n**第四百零四条** 担保物权所担保的债权的范围，包括主债权及其利息、违约金、损害赔偿金和实现担保物权的费用。\\n当事人另有约定的，依照其约定。\\n\\n**第四百零五条** 债务人履行债务或者担保物权消灭的，担保物权消灭。\\n\\n**第四百零六条** 法律、行政法规对担保物权有特别规定的，依照其规定。\\n\\n**第四百零七条** 担保物权人有权对担保财产的孳息优先受偿。\\n当事人另有约定的，依照其约定。\\n\\n**第四百零八条** 担保物权消灭的，登记机构应当依法办理注销登记。\\n\\n####\\n二、权利质权\\n\\n**第四百四十九条** 可以出质的权利包括：\\n（一）汇票、本票、支票；\\n（二）债券、存款单；\\n（三）仓单、提单；\\n（四）可以转让的基金份额、股权；\\n（五）可以转让的注册商标专用权、专利权、著作权等知识产权中的财产权；\\n（六）应收账款；\\n（七）法律、行政法规规定可以出质的其他财产权利。\\n\\n**第四百五十条** 以汇票、本票、支票、债券、存款单、仓单、提单出质的，当事人应当订立书面合同。质权自权利凭证交付之日起设立。\\n\\n**第四百五十一条** 以记名股票出质的，当事人应当订立书面合同。质权自股票交付之日起设立。\\n以未上市公司股权出质的，适用公司法有关股权转让的规定。\\n\\n**第四百五十二条** 以可以转让的基金份额、股权出质的，当事人应当订立书面合同。质权自基金份额、股权登记于证券登记结算机构或者公司章程载明的股权登记簿时设立。\\n以未上市公司股权出质的，适用公司法有关股权转让的规定。\\n\\n**第四百五十三条** 以可以转让的注册商标专用权、专利权、著作权等知识产权中的财产权出质的，当事人应当订立书面合同。质权自权利质押登记于相关部门时设立。\\n\\n**第四百五十四条** 以应收账款出质的，当事人应当订立书面合同。质权自应收账款质押登记于中国人民银行征信中心时设立。\\n\\n**第四百五十五条** 以法律、行政法规规定可以出质的其他财产权利出质的，依照法律、行政法规的规定。\\n\\n**第四百五十六条** 权利质权除适用本节规定外，参照适用本章动产质权的有关规定。\\n\\n####\\n第五节 居住权\\n\\n**第三百八十二条** 居住权人有权依照合同约定或者遗嘱，对他人的住宅享有占有、使用的权利，以满足生活居住的需要。\\n\\n**第三百八十三条** 设立居住权，当事人应当依照法律规定办理登记。\\n未经登记，不发生物权效力。\\n\\n**第三百八十四条** 居住权不得转让、继承。\\n设立居住权的住宅不得出租，但是当事人另有约定的除外。\\n\\n**第三百八十五条** 居住权期间届满或者居住权人死亡的，居住权消灭。\\n居住权消灭的，登记机构应当依法办理注销登记。\\n\\n**第三百八十六条** 居住权人有权对居住权的住宅进行维修、养护，但不得改变住宅的用途。\\n居住权人对居住权的住宅享有占有、使用的权利。\\n\\n**第三百八十七条** 居住权人有权依照合同约定或者遗嘱，对他人的住宅享有占有、使用的权利，以满足生活居住的需要。\\n\\n####'"
      ]
     },
     "execution_count": 6,
     "metadata": {},
     "output_type": "execute_result"
    }
   ],
   "source": [
    "# 使用 LLM 获取 RAG 响应\n",
    "# 将检索到的文档转换为字符串格式\n",
    "context = \"\\n\".join(\n",
    "    [line_with_distance[0] for line_with_distance in retrieved_lines_with_distances]\n",
    ")\n",
    "context"
   ]
  },
  {
   "cell_type": "code",
   "execution_count": 7,
   "id": "f66c0fef-b2fd-4a44-bbb6-5d5c0bc9459f",
   "metadata": {},
   "outputs": [
    {
     "data": {
      "text/plain": [
       "'居住权是什么，购买房屋时对于居住权应该注意什么'"
      ]
     },
     "execution_count": 7,
     "metadata": {},
     "output_type": "execute_result"
    }
   ],
   "source": [
    "question"
   ]
  },
  {
   "cell_type": "code",
   "execution_count": 8,
   "id": "bf586975-433f-4fbb-9936-68248298ac7e",
   "metadata": {},
   "outputs": [
    {
     "data": {
      "text/plain": [
       "'\\nHuman: 你是一个 AI 助手。你能够从提供的上下文段落片段中找到问题的答案。\\n'"
      ]
     },
     "execution_count": 8,
     "metadata": {},
     "output_type": "execute_result"
    }
   ],
   "source": [
    "SYSTEM_PROMPT = \"\"\"\n",
    "Human: 你是一个 AI 助手。你能够从提供的上下文段落片段中找到问题的答案。\n",
    "\"\"\"\n",
    "USER_PROMPT = f\"\"\"\n",
    "请使用以下用 <context> 标签括起来的信息片段来回答用 <question> 标签括起来的问题。最后追加原始回答的英文翻译，并用 <translated>和</translated> 标签标注。\n",
    "<context>\n",
    "{context}\n",
    "</context>\n",
    "<question>\n",
    "{question}\n",
    "</question>\n",
    "<translated>\n",
    "</translated>\n",
    "\"\"\"\n",
    "SYSTEM_PROMPT"
   ]
  },
  {
   "cell_type": "code",
   "execution_count": 9,
   "id": "e1e784a5-ab70-4835-9c01-d4b380c85754",
   "metadata": {},
   "outputs": [
    {
     "data": {
      "text/plain": [
       "'\\n请使用以下用 <context> 标签括起来的信息片段来回答用 <question> 标签括起来的问题。最后追加原始回答的英文翻译，并用 <translated>和</translated> 标签标注。\\n<context>\\n第三章 合同的变更和转让\\n\\n**第五百四十八条** 当事人协商一致，可以变更合同。\\n\\n**第五百四十九条** 当事人对合同变更的内容约定不明确的，推定为未变更。\\n\\n**第五百五十条** 债权人可以将合同的权利全部或者部分转让给第三人，但是有下列情形之一的除外：\\n（一）根据合同性质不得转让；\\n（二）按照当事人约定不得转让；\\n（三）依照法律规定不得转让。\\n债权人转让权利的，应当通知债务人。未经通知，该转让对债务人不发生效力。\\n\\n**第五百五十一条** 债权人转让权利的，受让人取得与债权有关的从权利，但是该从权利专属于债权人自身的除外。\\n\\n**第五百五十二条** 债务人将合同的义务全部或者部分转让给第三人的，应当经债权人同意。\\n\\n**第五百五十三条** 债务人转让义务的，新债务人可以主张原债务人对债权人的抗辩。\\n新债务人承担债务的，应当承担与主债务有关的从债务，但是该从债务专属于原债务人自身的除外。\\n\\n**第五百五十四条** 当事人一方经对方同意，可以将自己在合同中的权利和义务一并转让给第三人。\\n\\n**第五百五十五条** 权利和义务一并转让的，适用债权转让、债务转让的有关规定。\\n\\n**第五百五十六条** 合同变更的，不影响当事人请求损害赔偿的权利。\\n\\n###\\n第二节 土地承包经营权\\n\\n**第三百五十八条** 土地承包经营权人依照法律规定，对集体所有的土地和国家所有由集体经济组织承包的土地，享有占有、使用和收益的权利，有权从事种植业、林业、畜牧业等农业生产。\\n\\n**第三百五十九条** 土地承包经营权人可以按照法律规定，将土地承包经营权互换、转让。\\n当事人通过互换、转让方式取得土地承包经营权的，未经登记，不得对抗善意第三人。\\n\\n**第三百六十条** 土地承包经营权人依法对承包地享有占有、使用、收益的权利。\\n土地承包经营权人可以采取出租、入股或者其他方式流转土地经营权。\\n\\n**第三百六十一条** 土地承包经营权人可以根据法律规定，将土地承包经营权互换、转让。\\n互换、转让后，土地承包经营权人依法享有土地承包经营权。\\n\\n**第三百六十二条** 土地经营权人有权在合同约定的期限内占有农村土地，开展农业生产经营并取得收益。\\n\\n**第三百六十三条** 土地经营权人可以依照法律规定，将土地经营权转让、出租、入股或者以其他方式流转。\\n未经登记，不得对抗善意第三人。\\n\\n**第三百六十四条** 耕地的承包期为三十年。草地的承包期为三十年至五十年。林地的承包期为三十年至七十年。\\n\\n**第三百六十五条** 土地承包经营权人依法享有承包地上的生产经营自主权。\\n土地承包经营权人可以采取出租、入股或者其他方式流转土地经营权。\\n\\n**第三百六十六条** 承包期届满，由土地承包经营权人按照国家有关规定继续承包。\\n法律另有规定的，依照其规定。\\n\\n####\\n第一节 一般规定\\n\\n**第三百九十九条** 担保物权人在债务人不履行到期债务或者发生当事人约定的实现担保物权的情形，有权依照法律规定以担保财产优先受偿。\\n\\n**第四百条** 担保物权包括抵押权、质权和留置权。\\n\\n**第四百零一条** 设立担保物权，当事人应当依照法律规定办理登记。\\n未经登记，不发生物权效力。\\n\\n**第四百零二条** 法律、行政法规对担保物权有特别规定的，依照其规定。\\n\\n**第四百零三条** 担保物权人在债务人不履行到期债务或者发生当事人约定的实现担保物权的情形，有权依照法律规定以担保财产优先受偿。\\n\\n**第四百零四条** 担保物权所担保的债权的范围，包括主债权及其利息、违约金、损害赔偿金和实现担保物权的费用。\\n当事人另有约定的，依照其约定。\\n\\n**第四百零五条** 债务人履行债务或者担保物权消灭的，担保物权消灭。\\n\\n**第四百零六条** 法律、行政法规对担保物权有特别规定的，依照其规定。\\n\\n**第四百零七条** 担保物权人有权对担保财产的孳息优先受偿。\\n当事人另有约定的，依照其约定。\\n\\n**第四百零八条** 担保物权消灭的，登记机构应当依法办理注销登记。\\n\\n####\\n二、权利质权\\n\\n**第四百四十九条** 可以出质的权利包括：\\n（一）汇票、本票、支票；\\n（二）债券、存款单；\\n（三）仓单、提单；\\n（四）可以转让的基金份额、股权；\\n（五）可以转让的注册商标专用权、专利权、著作权等知识产权中的财产权；\\n（六）应收账款；\\n（七）法律、行政法规规定可以出质的其他财产权利。\\n\\n**第四百五十条** 以汇票、本票、支票、债券、存款单、仓单、提单出质的，当事人应当订立书面合同。质权自权利凭证交付之日起设立。\\n\\n**第四百五十一条** 以记名股票出质的，当事人应当订立书面合同。质权自股票交付之日起设立。\\n以未上市公司股权出质的，适用公司法有关股权转让的规定。\\n\\n**第四百五十二条** 以可以转让的基金份额、股权出质的，当事人应当订立书面合同。质权自基金份额、股权登记于证券登记结算机构或者公司章程载明的股权登记簿时设立。\\n以未上市公司股权出质的，适用公司法有关股权转让的规定。\\n\\n**第四百五十三条** 以可以转让的注册商标专用权、专利权、著作权等知识产权中的财产权出质的，当事人应当订立书面合同。质权自权利质押登记于相关部门时设立。\\n\\n**第四百五十四条** 以应收账款出质的，当事人应当订立书面合同。质权自应收账款质押登记于中国人民银行征信中心时设立。\\n\\n**第四百五十五条** 以法律、行政法规规定可以出质的其他财产权利出质的，依照法律、行政法规的规定。\\n\\n**第四百五十六条** 权利质权除适用本节规定外，参照适用本章动产质权的有关规定。\\n\\n####\\n第五节 居住权\\n\\n**第三百八十二条** 居住权人有权依照合同约定或者遗嘱，对他人的住宅享有占有、使用的权利，以满足生活居住的需要。\\n\\n**第三百八十三条** 设立居住权，当事人应当依照法律规定办理登记。\\n未经登记，不发生物权效力。\\n\\n**第三百八十四条** 居住权不得转让、继承。\\n设立居住权的住宅不得出租，但是当事人另有约定的除外。\\n\\n**第三百八十五条** 居住权期间届满或者居住权人死亡的，居住权消灭。\\n居住权消灭的，登记机构应当依法办理注销登记。\\n\\n**第三百八十六条** 居住权人有权对居住权的住宅进行维修、养护，但不得改变住宅的用途。\\n居住权人对居住权的住宅享有占有、使用的权利。\\n\\n**第三百八十七条** 居住权人有权依照合同约定或者遗嘱，对他人的住宅享有占有、使用的权利，以满足生活居住的需要。\\n\\n####\\n</context>\\n<question>\\n居住权是什么，购买房屋时对于居住权应该注意什么\\n</question>\\n<translated>\\n</translated>\\n'"
      ]
     },
     "execution_count": 9,
     "metadata": {},
     "output_type": "execute_result"
    }
   ],
   "source": [
    "USER_PROMPT"
   ]
  },
  {
   "cell_type": "code",
   "execution_count": 10,
   "id": "a3ae1b70-ac3d-4378-9482-aa00c6826857",
   "metadata": {},
   "outputs": [
    {
     "name": "stdout",
     "output_type": "stream",
     "text": [
      "根据《中华人民共和国民法典》第三百八十二条至第三百八十七条关于居住权的规定：\n",
      "\n",
      "**居住权**是指居住权人依照合同约定或遗嘱，对他人的住宅享有占有、使用的权利，以满足生活居住的需要。其核心特征包括：\n",
      "1. **权利来源**：通过合同或遗嘱设立，需依法登记（未登记不生效）；\n",
      "2. **权利内容**：仅限占有、使用，不可转让或继承；\n",
      "3. **限制条件**：设立居住权的住宅原则上不得出租（除非另有约定），且不得改变住宅用途。\n",
      "\n",
      "**购买房屋时需注意以下居住权问题**：\n",
      "1. **查验登记**：必须核查不动产登记簿，确认房屋是否已设立居住权（未登记的居住权无效）；\n",
      "2. **权利限制**：若存在居住权，即使取得所有权，也需容忍居住权人继续占用房屋至约定期限或居住权人死亡；\n",
      "3. **禁止出租风险**：居住权住宅通常不可出租，可能影响投资回报；\n",
      "4. **注销义务**：居住权消灭后，应督促办理注销登记（如原居住权人未配合，需通过法律途径解决）。\n",
      "\n",
      "<translated>\n",
      "According to Articles 382 to 387 of the Civil Code of the People's Republic of China regarding the right of habitation:\n",
      "\n",
      "**Right of habitation** refers to the right of a habitation-right holder to possess and use another person's residential property based on contractual agreement or will, for the purpose of meeting living needs. Its key features include:\n",
      "1. **Source of right**: Established via contract or will, requiring legal registration (invalid without registration);\n",
      "2. **Content of right**: Limited to possession and use, non-transferable and non-inheritable;\n",
      "3. **Restrictions**: The property with habitation right generally cannot be leased (unless otherwise agreed), and its purpose cannot be altered.\n",
      "\n",
      "**Precautions when purchasing a property with habitation right**:\n",
      "1. **Registration check**: Verify the real estate registry to confirm if a habitation right exists (unregistered rights are void);\n",
      "2. **Right limitations**: Even with ownership, the buyer must allow the habitation-right holder to occupy the property until the agreed term ends or the holder dies;\n",
      "3. **Leasing prohibition**: Such properties are usually unrentable, potentially affecting investment returns;\n",
      "4. **Cancellation obligation**: Upon termination of the right, ensure deregistration is processed (legal action may be needed if the holder refuses cooperation).\n",
      "</translated>\n"
     ]
    }
   ],
   "source": [
    "# 使用 DeepSeek 提供的 deepseek-chat 模型根据提示生成响应\n",
    "import os\n",
    "# 从环境变量获取 DeepSeek API Key\n",
    "api_key = os.getenv(\"DEEPSEEK_API_KEY\")\n",
    "\n",
    "from openai import OpenAI\n",
    "\n",
    "deepseek_client = OpenAI(\n",
    "    api_key=api_key,\n",
    "    base_url=\"https://api.deepseek.com/v1\",  # DeepSeek API 的基地址\n",
    ")\n",
    "response = deepseek_client.chat.completions.create(\n",
    "    model=\"deepseek-chat\",\n",
    "    messages=[\n",
    "        {\"role\": \"system\", \"content\": SYSTEM_PROMPT},\n",
    "        {\"role\": \"user\", \"content\": USER_PROMPT},\n",
    "    ],\n",
    ")\n",
    "print(response.choices[0].message.content)"
   ]
  },
  {
   "cell_type": "code",
   "execution_count": null,
   "id": "944c8f78-cf9e-4df2-b0fd-57824539fab3",
   "metadata": {},
   "outputs": [],
   "source": []
  }
 ],
 "metadata": {
  "kernelspec": {
   "display_name": "deepseek",
   "language": "python",
   "name": "deepseek"
  },
  "language_info": {
   "codemirror_mode": {
    "name": "ipython",
    "version": 3
   },
   "file_extension": ".py",
   "mimetype": "text/x-python",
   "name": "python",
   "nbconvert_exporter": "python",
   "pygments_lexer": "ipython3",
   "version": "3.13.4"
  }
 },
 "nbformat": 4,
 "nbformat_minor": 5
}
